{
 "cells": [
  {
   "cell_type": "markdown",
   "id": "a3573a47-3689-4668-b62f-5c8451b2b4e9",
   "metadata": {
    "tags": []
   },
   "source": [
    "# 0. Preprocesiranje i ucitavanje biblioteka "
   ]
  },
  {
   "cell_type": "code",
   "execution_count": 1,
   "id": "ddfbccbe-41ae-4c23-98b1-a13868e2b499",
   "metadata": {
    "scrolled": true,
    "tags": []
   },
   "outputs": [
    {
     "name": "stdout",
     "output_type": "stream",
     "text": [
      "Package                      Version\n",
      "---------------------------- --------------\n",
      "absl-py                      2.1.0\n",
      "anyio                        4.3.0\n",
      "argon2-cffi                  23.1.0\n",
      "argon2-cffi-bindings         21.2.0\n",
      "arrow                        1.3.0\n",
      "asttokens                    2.4.1\n",
      "astunparse                   1.6.3\n",
      "async-lru                    2.0.4\n",
      "attrs                        23.2.0\n",
      "Babel                        2.14.0\n",
      "beautifulsoup4               4.12.3\n",
      "bleach                       6.1.0\n",
      "certifi                      2024.2.2\n",
      "cffi                         1.16.0\n",
      "charset-normalizer           3.3.2\n",
      "cmake                        3.29.2\n",
      "colorama                     0.4.6\n",
      "comm                         0.2.2\n",
      "contourpy                    1.2.0\n",
      "cycler                       0.12.1\n",
      "debugpy                      1.8.1\n",
      "decorator                    5.1.1\n",
      "defusedxml                   0.7.1\n",
      "dlib                         19.24.4\n",
      "executing                    2.0.1\n",
      "fastjsonschema               2.19.1\n",
      "filelock                     3.13.4\n",
      "flatbuffers                  24.3.25\n",
      "fonttools                    4.45.0\n",
      "fqdn                         1.5.1\n",
      "gast                         0.5.4\n",
      "gdown                        5.1.0\n",
      "google-pasta                 0.2.0\n",
      "grpcio                       1.62.2\n",
      "h11                          0.14.0\n",
      "h5py                         3.11.0\n",
      "httpcore                     1.0.5\n",
      "httpx                        0.27.0\n",
      "idna                         3.7\n",
      "imageio                      2.34.1\n",
      "ipykernel                    6.29.4\n",
      "ipython                      8.24.0\n",
      "isoduration                  20.11.0\n",
      "jedi                         0.19.1\n",
      "Jinja2                       3.1.3\n",
      "joblib                       1.3.2\n",
      "json5                        0.9.25\n",
      "jsonpointer                  2.4\n",
      "jsonschema                   4.21.1\n",
      "jsonschema-specifications    2023.12.1\n",
      "jupyter_client               8.6.1\n",
      "jupyter_core                 5.7.2\n",
      "jupyter-events               0.10.0\n",
      "jupyter-lsp                  2.2.5\n",
      "jupyter_server               2.14.0\n",
      "jupyter_server_terminals     0.5.3\n",
      "jupyterlab                   4.1.8\n",
      "jupyterlab_pygments          0.3.0\n",
      "jupyterlab_server            2.27.1\n",
      "keras                        3.3.3\n",
      "kiwisolver                   1.4.5\n",
      "libclang                     18.1.1\n",
      "Markdown                     3.6\n",
      "markdown-it-py               3.0.0\n",
      "MarkupSafe                   2.1.5\n",
      "matplotlib                   3.8.2\n",
      "matplotlib-inline            0.1.7\n",
      "mdurl                        0.1.2\n",
      "mistune                      3.0.2\n",
      "ml-dtypes                    0.3.2\n",
      "namex                        0.0.8\n",
      "nbclient                     0.10.0\n",
      "nbconvert                    7.16.3\n",
      "nbformat                     5.10.4\n",
      "nest-asyncio                 1.6.0\n",
      "notebook_shim                0.2.4\n",
      "numpy                        1.26.2\n",
      "opencv-python                4.9.0.80\n",
      "opt-einsum                   3.3.0\n",
      "optree                       0.11.0\n",
      "overrides                    7.7.0\n",
      "packaging                    23.2\n",
      "pandas                       2.1.3\n",
      "pandocfilters                1.5.1\n",
      "parso                        0.8.4\n",
      "Pillow                       10.1.0\n",
      "pip                          24.2\n",
      "platformdirs                 4.2.1\n",
      "prometheus_client            0.20.0\n",
      "prompt-toolkit               3.0.43\n",
      "protobuf                     4.25.3\n",
      "psutil                       5.9.8\n",
      "pure-eval                    0.2.2\n",
      "pycparser                    2.22\n",
      "Pygments                     2.17.2\n",
      "pyparsing                    3.1.1\n",
      "PySocks                      1.7.1\n",
      "python-dateutil              2.8.2\n",
      "python-json-logger           2.0.7\n",
      "pytz                         2023.3.post1\n",
      "pywin32                      306\n",
      "pywinpty                     2.0.13\n",
      "PyYAML                       6.0.1\n",
      "pyzmq                        26.0.2\n",
      "referencing                  0.35.0\n",
      "requests                     2.31.0\n",
      "rfc3339-validator            0.1.4\n",
      "rfc3986-validator            0.1.1\n",
      "rich                         13.7.1\n",
      "rpds-py                      0.18.0\n",
      "scikit-learn                 1.3.2\n",
      "scipy                        1.11.4\n",
      "seaborn                      0.13.0\n",
      "Send2Trash                   1.8.3\n",
      "setuptools                   69.5.1\n",
      "six                          1.16.0\n",
      "sniffio                      1.3.1\n",
      "soupsieve                    2.5\n",
      "stack-data                   0.6.3\n",
      "tensorboard                  2.16.2\n",
      "tensorboard-data-server      0.7.2\n",
      "tensorflow                   2.16.1\n",
      "tensorflow-intel             2.16.1\n",
      "tensorflow-io-gcs-filesystem 0.31.0\n",
      "termcolor                    2.4.0\n",
      "terminado                    0.18.1\n",
      "threadpoolctl                3.2.0\n",
      "tinycss2                     1.3.0\n",
      "tornado                      6.4\n",
      "tqdm                         4.66.2\n",
      "traitlets                    5.14.3\n",
      "types-python-dateutil        2.9.0.20240316\n",
      "typing_extensions            4.11.0\n",
      "tzdata                       2023.3\n",
      "uri-template                 1.3.0\n",
      "urllib3                      2.2.1\n",
      "wcwidth                      0.2.13\n",
      "webcolors                    1.13\n",
      "webencodings                 0.5.1\n",
      "websocket-client             1.8.0\n",
      "Werkzeug                     3.0.2\n",
      "wheel                        0.43.0\n",
      "wrapt                        1.16.0\n"
     ]
    },
    {
     "name": "stderr",
     "output_type": "stream",
     "text": [
      "WARNING: Ignoring invalid distribution ~ip (C:\\Python311\\Lib\\site-packages)\n"
     ]
    }
   ],
   "source": [
    "!pip list"
   ]
  },
  {
   "cell_type": "code",
   "execution_count": 2,
   "id": "e29767fc-6827-4e0d-9838-9fd080a3beee",
   "metadata": {},
   "outputs": [],
   "source": [
    "#pip  install --user --upgrade pip\n",
    "#pip install --upgrade --user pip setuptools\n",
    "#!pip install opencv-python matplotlib imageio gdown tensorflow"
   ]
  },
  {
   "cell_type": "code",
   "execution_count": 3,
   "id": "1e3db0b0-e559-4ad6-91fd-e7414b7d75e6",
   "metadata": {},
   "outputs": [
    {
     "ename": "NameError",
     "evalue": "name 'tf' is not defined",
     "output_type": "error",
     "traceback": [
      "\u001b[1;31m---------------------------------------------------------------------------\u001b[0m",
      "\u001b[1;31mNameError\u001b[0m                                 Traceback (most recent call last)",
      "Cell \u001b[1;32mIn[3], line 1\u001b[0m\n\u001b[1;32m----> 1\u001b[0m \u001b[43mtf\u001b[49m\u001b[38;5;241m.\u001b[39mconfig\u001b[38;5;241m.\u001b[39mlist_physical_devices(\u001b[38;5;124m'\u001b[39m\u001b[38;5;124mGPU\u001b[39m\u001b[38;5;124m'\u001b[39m)\n",
      "\u001b[1;31mNameError\u001b[0m: name 'tf' is not defined"
     ]
    }
   ],
   "source": [
    "tf.config.list_physical_devices('GPU')"
   ]
  },
  {
   "cell_type": "code",
   "execution_count": null,
   "id": "b24af50c-20b8-409d-ad78-30a933fdd669",
   "metadata": {
    "tags": []
   },
   "outputs": [],
   "source": [
    "import os\n",
    "import gdown\n",
    "import cv2\n",
    "import dlib\n",
    "import tensorflow as tf\n",
    "import numpy as np\n",
    "from typing import List\n",
    "from matplotlib import pyplot as plt\n",
    "import imageio\n",
    "from tensorflow.python.client import device_lib"
   ]
  },
  {
   "cell_type": "code",
   "execution_count": null,
   "id": "20f032d2-10a8-44be-901c-bae584db6d7e",
   "metadata": {},
   "outputs": [],
   "source": [
    "#vraca graficke karte na racunaru\n",
    "def get_available_devices():\n",
    "    local_device_protos = device_lib.list_local_devices()\n",
    "    return [x.name for x in local_device_protos]\n",
    "\n",
    "#print(get_available_devices())"
   ]
  },
  {
   "cell_type": "code",
   "execution_count": null,
   "id": "378d045a-3003-4f93-b7d2-a25a97774a68",
   "metadata": {
    "tags": []
   },
   "outputs": [],
   "source": [
    "physical_devices = tf.config.list_physical_devices('GPU')\n",
    "try:\n",
    "    tf.config.experimental.set_memory_growth(physical_devices[0], True)\n",
    "except:\n",
    "    print('NO GPU')\n",
    "    pass"
   ]
  },
  {
   "cell_type": "markdown",
   "id": "7a19e88e-c7b9-45c1-ae1e-f2109329c71b",
   "metadata": {
    "tags": []
   },
   "source": [
    "# 1. Ucitavanje podataka"
   ]
  },
  {
   "cell_type": "code",
   "execution_count": null,
   "id": "c019e4c6-2af3-4160-99ea-5c8cb009f1a7",
   "metadata": {
    "scrolled": true,
    "tags": []
   },
   "outputs": [],
   "source": [
    "url = 'https://drive.google.com/uc?id=1YlvpDLix3S-U8fd-gqRwPcWXAXm8JwjL'\n",
    "output = 'data.zip'\n",
    "gdown.download(url, output, quiet=False)\n",
    "gdown.extractall('data.zip')"
   ]
  },
  {
   "cell_type": "code",
   "execution_count": 8,
   "id": "8548cc59-6dfc-4acc-abc3-3e65212db02e",
   "metadata": {
    "tags": []
   },
   "outputs": [],
   "source": [
    "def load_video(path:str, width: int = 64, height: int = 64) -> List[float]: \n",
    "\n",
    "    cap = cv2.VideoCapture(path)\n",
    "    frames = []\n",
    "\n",
    "  \n",
    "    detector = dlib.get_frontal_face_detector()\n",
    "    predictor = dlib.shape_predictor(\"shape_predictor_68_face_landmarks.dat\")\n",
    "\n",
    "\n",
    "    for _ in range(int(cap.get(cv2.CAP_PROP_FRAME_COUNT))):\n",
    "        ret, frame = cap.read()\n",
    "        \n",
    "        \n",
    "        gray_frame = cv2.cvtColor(frame, cv2.COLOR_BGR2GRAY)\n",
    "        \n",
    "       \n",
    "        faces = detector(gray_frame)\n",
    "        \n",
    "        for face in faces:\n",
    "\n",
    "            #nalazimo lice na slici(frejmu) i obelezavamo tacke koje oznacavaju usne\n",
    "            #secemo sliku 64x64 oko usana i takav frejm ubacujemo u neuralnu mrezu\n",
    "            \n",
    "            landmarks = predictor(gray_frame, face)\n",
    "            \n",
    "        \n",
    "            lip_left = landmarks.part(48).x\n",
    "            lip_right = landmarks.part(54).x\n",
    "            lip_top = min(landmarks.part(50).y, landmarks.part(51).y)\n",
    "            lip_bottom = max(landmarks.part(58).y, landmarks.part(59).y)\n",
    "\n",
    "          \n",
    "            lip_frame = frame[lip_top:lip_bottom, lip_left:lip_right]\n",
    "            \n",
    "            \n",
    "            lip_frame_resized = cv2.resize(lip_frame, (width, height))  \n",
    "            #resajzujemo sliku oko usta na 64x64\n",
    "            \n",
    "           \n",
    "            lip_frame_gray = cv2.cvtColor(lip_frame_resized, cv2.COLOR_BGR2GRAY)\n",
    "            \n",
    "            \n",
    "            frames.append(lip_frame_gray)\n",
    "\n",
    "    cap.release()\n",
    "\n",
    "    # Convert frames to tensor\n",
    "    frames = tf.convert_to_tensor(frames, dtype=tf.float32) #pretvaramo u tensor da bi mogli da koristimo u NN\n",
    "\n",
    "    #standardizujemo sliku\n",
    "    mean = tf.reduce_mean(frames)\n",
    "    std = tf.math.reduce_std(frames)\n",
    "\n",
    "    return tf.cast((frames - mean), tf.float32) / std"
   ]
  },
  {
   "cell_type": "code",
   "execution_count": 9,
   "id": "ec735e0b-ec98-4eb0-8f49-c35527d6670a",
   "metadata": {
    "tags": []
   },
   "outputs": [],
   "source": [
    "vocab = [x for x in \"abcdefghijklmnopqrstuvwxyz'?!123456789 \"]"
   ]
  },
  {
   "cell_type": "code",
   "execution_count": 10,
   "id": "be04e972-d7a5-4a72-82d8-a6bdde1f3ce6",
   "metadata": {
    "tags": []
   },
   "outputs": [
    {
     "name": "stdout",
     "output_type": "stream",
     "text": [
      "The vocabulary is: ['', 'a', 'b', 'c', 'd', 'e', 'f', 'g', 'h', 'i', 'j', 'k', 'l', 'm', 'n', 'o', 'p', 'q', 'r', 's', 't', 'u', 'v', 'w', 'x', 'y', 'z', \"'\", '?', '!', '1', '2', '3', '4', '5', '6', '7', '8', '9', ' '] (size =40)\n"
     ]
    }
   ],
   "source": [
    "#################################\n",
    "# tokenizujemo sve karaktere da budu oznaceni sa jedinstvenim brojem\n",
    "# num_to_char da vratimo oznake iz broja u karakter da bi mogli da impretiramo yhat\n",
    "#####################################\n",
    "\n",
    "char_to_num = tf.keras.layers.StringLookup(vocabulary=vocab, oov_token=\"\")\n",
    "num_to_char = tf.keras.layers.StringLookup(\n",
    "    vocabulary=char_to_num.get_vocabulary(), oov_token=\"\", invert=True\n",
    ")\n",
    "\n",
    "print(\n",
    "    f\"The vocabulary is: {char_to_num.get_vocabulary()} \"\n",
    "    f\"(size ={char_to_num.vocabulary_size()})\"\n",
    ")"
   ]
  },
  {
   "cell_type": "code",
   "execution_count": 11,
   "id": "559f7420-6802-45fa-9ca0-b1ff209b461c",
   "metadata": {
    "scrolled": true,
    "tags": []
   },
   "outputs": [
    {
     "data": {
      "text/plain": [
       "['',\n",
       " 'a',\n",
       " 'b',\n",
       " 'c',\n",
       " 'd',\n",
       " 'e',\n",
       " 'f',\n",
       " 'g',\n",
       " 'h',\n",
       " 'i',\n",
       " 'j',\n",
       " 'k',\n",
       " 'l',\n",
       " 'm',\n",
       " 'n',\n",
       " 'o',\n",
       " 'p',\n",
       " 'q',\n",
       " 'r',\n",
       " 's',\n",
       " 't',\n",
       " 'u',\n",
       " 'v',\n",
       " 'w',\n",
       " 'x',\n",
       " 'y',\n",
       " 'z',\n",
       " \"'\",\n",
       " '?',\n",
       " '!',\n",
       " '1',\n",
       " '2',\n",
       " '3',\n",
       " '4',\n",
       " '5',\n",
       " '6',\n",
       " '7',\n",
       " '8',\n",
       " '9',\n",
       " ' ']"
      ]
     },
     "execution_count": 11,
     "metadata": {},
     "output_type": "execute_result"
    }
   ],
   "source": [
    "char_to_num.get_vocabulary()"
   ]
  },
  {
   "cell_type": "code",
   "execution_count": 12,
   "id": "797ff78b-b48f-4e14-bb62-8cd0ebf9501a",
   "metadata": {
    "tags": []
   },
   "outputs": [
    {
     "data": {
      "text/plain": [
       "<tf.Tensor: shape=(8,), dtype=int64, numpy=array([ 4, 18,  1,  7, 15, 13,  9, 18], dtype=int64)>"
      ]
     },
     "execution_count": 12,
     "metadata": {},
     "output_type": "execute_result"
    }
   ],
   "source": [
    "char_to_num(['d','r','a','g','o','m','i','r'])"
   ]
  },
  {
   "cell_type": "code",
   "execution_count": 13,
   "id": "8cd7f4f4-ae77-4509-a4f4-c723787ebad1",
   "metadata": {},
   "outputs": [
    {
     "data": {
      "text/plain": [
       "<tf.Tensor: shape=(8,), dtype=string, numpy=array([b'd', b'r', b'a', b'g', b'o', b'm', b'i', b'r'], dtype=object)>"
      ]
     },
     "execution_count": 13,
     "metadata": {},
     "output_type": "execute_result"
    }
   ],
   "source": [
    "num_to_char([ 4, 18,  1,  7, 15, 13,  9, 18])"
   ]
  },
  {
   "cell_type": "code",
   "execution_count": 14,
   "id": "9491bab5-6a3c-4f79-879a-8f9fbe73ae2e",
   "metadata": {
    "tags": []
   },
   "outputs": [],
   "source": [
    "# funkcija load_aligments ucitava ground truth labels svakog od videa u bazi\n",
    "\n",
    "def load_alignments(path:str) -> List[str]: \n",
    "    with open(path, 'r') as f: \n",
    "        lines = f.readlines() \n",
    "    tokens = []\n",
    "    for line in lines:\n",
    "        line = line.split()\n",
    "        if line[2] != 'sil': \n",
    "            tokens = [*tokens,' ',line[2]]\n",
    "    return char_to_num(tf.reshape(tf.strings.unicode_split(tokens, input_encoding='UTF-8'), (-1)))[1:]"
   ]
  },
  {
   "cell_type": "code",
   "execution_count": 15,
   "id": "dd01ca9f-77fb-4643-a2aa-47dd82c5d66b",
   "metadata": {
    "tags": []
   },
   "outputs": [],
   "source": [
    "# funkcija load_data ucitava aligments(labele), \n",
    "# ucitava video i izdvaja automatski usne na video snimku\n",
    "\n",
    "def load_data(path: str): \n",
    "    path = bytes.decode(path.numpy())\n",
    "    #file_name = path.split('/')[-1].split('.')[0]\n",
    "    # File name splitting for windows\n",
    "    file_name = path.split('\\\\')[-1].split('.')[0]\n",
    "    video_path = os.path.join('data','s1',f'{file_name}.mpg')\n",
    "    alignment_path = os.path.join('data','alignments','s1',f'{file_name}.align')\n",
    "    frames = load_video(video_path) \n",
    "    alignments = load_alignments(alignment_path)\n",
    "    \n",
    "    return frames, alignments"
   ]
  },
  {
   "cell_type": "code",
   "execution_count": 16,
   "id": "8cb7cc58-31ae-4904-a805-1177a82717d2",
   "metadata": {
    "tags": []
   },
   "outputs": [],
   "source": [
    "test_path = '.\\\\data\\\\s1\\\\bbal6n.mpg'"
   ]
  },
  {
   "cell_type": "code",
   "execution_count": 17,
   "id": "76aa964f-0c84-490d-897a-d00e3966e2c9",
   "metadata": {},
   "outputs": [
    {
     "data": {
      "text/plain": [
       "'bbal6n'"
      ]
     },
     "execution_count": 17,
     "metadata": {},
     "output_type": "execute_result"
    }
   ],
   "source": [
    "tf.convert_to_tensor(test_path).numpy().decode('utf-8').split('\\\\')[-1].split('.')[0]"
   ]
  },
  {
   "cell_type": "code",
   "execution_count": 18,
   "id": "eb602c71-8560-4f9e-b26b-08202febb937",
   "metadata": {
    "scrolled": true,
    "tags": []
   },
   "outputs": [],
   "source": [
    "frames, alignments = load_data(tf.convert_to_tensor(test_path))"
   ]
  },
  {
   "cell_type": "code",
   "execution_count": 19,
   "id": "77169d31-ae19-482c-90b0-e7fc8de27c17",
   "metadata": {},
   "outputs": [
    {
     "data": {
      "text/plain": [
       "<tf.Tensor: shape=(21,), dtype=int64, numpy=\n",
       "array([ 2,  9, 14, 39,  2, 12, 21,  5, 39,  1, 20, 39, 12, 39, 19,  9, 24,\n",
       "       39, 14, 15, 23], dtype=int64)>"
      ]
     },
     "execution_count": 19,
     "metadata": {},
     "output_type": "execute_result"
    }
   ],
   "source": [
    "alignments"
   ]
  },
  {
   "cell_type": "code",
   "execution_count": 20,
   "id": "0e3184a1-6b02-4b4f-84a8-a0a65f951ea2",
   "metadata": {},
   "outputs": [
    {
     "data": {
      "text/plain": [
       "<matplotlib.image.AxesImage at 0x21143cdd290>"
      ]
     },
     "execution_count": 20,
     "metadata": {},
     "output_type": "execute_result"
    },
    {
     "data": {
      "image/png": "[encoded data removed]",
      "text/plain": [
       "<Figure size 640x480 with 1 Axes>"
      ]
     },
     "metadata": {},
     "output_type": "display_data"
    }
   ],
   "source": [
    "plt.imshow(frames[35])"
   ]
  },
  {
   "cell_type": "code",
   "execution_count": 21,
   "id": "d7ec0833-d54b-4073-84cf-92d011c60ec1",
   "metadata": {},
   "outputs": [
    {
     "data": {
      "text/plain": [
       "<tf.Tensor: shape=(21,), dtype=int64, numpy=\n",
       "array([ 2,  9, 14, 39,  2, 12, 21,  5, 39,  1, 20, 39, 12, 39, 19,  9, 24,\n",
       "       39, 14, 15, 23], dtype=int64)>"
      ]
     },
     "execution_count": 21,
     "metadata": {},
     "output_type": "execute_result"
    }
   ],
   "source": [
    "alignments"
   ]
  },
  {
   "cell_type": "code",
   "execution_count": 22,
   "id": "fe1ad370-b287-4b46-85a2-7c45b0bd9b10",
   "metadata": {},
   "outputs": [
    {
     "data": {
      "text/plain": [
       "<tf.Tensor: shape=(), dtype=string, numpy=b'bin blue at l six now'>"
      ]
     },
     "execution_count": 22,
     "metadata": {},
     "output_type": "execute_result"
    }
   ],
   "source": [
    "tf.strings.reduce_join([bytes.decode(x) for x in num_to_char(alignments.numpy()).numpy()])"
   ]
  },
  {
   "cell_type": "code",
   "execution_count": 23,
   "id": "6871031a-b0ba-4c76-a852-f6329b0f2606",
   "metadata": {
    "tags": []
   },
   "outputs": [],
   "source": [
    "def mappable_function(path:str) ->List[str]:\n",
    "    result = tf.py_function(load_data, [path], (tf.float32, tf.int64))\n",
    "    return result"
   ]
  },
  {
   "cell_type": "code",
   "execution_count": 24,
   "id": "7f0c98b6-e6a3-40a9-83ef-f84bbc0158ec",
   "metadata": {},
   "outputs": [
    {
     "data": {
      "text/plain": [
       "TensorShape([75, 64, 64])"
      ]
     },
     "execution_count": 24,
     "metadata": {},
     "output_type": "execute_result"
    }
   ],
   "source": [
    "frames.shape"
   ]
  },
  {
   "cell_type": "markdown",
   "id": "c40a7eb4-0c3e-4eab-9291-5611cb68ce08",
   "metadata": {
    "tags": []
   },
   "source": [
    "# 2. pravljenje PipeLine za podatke"
   ]
  },
  {
   "cell_type": "code",
   "execution_count": 25,
   "id": "7686355d-45aa-4c85-ad9c-053e6a9b4d81",
   "metadata": {
    "tags": []
   },
   "outputs": [],
   "source": [
    "from matplotlib import pyplot as plt"
   ]
  },
  {
   "cell_type": "code",
   "execution_count": 26,
   "id": "f066fea2-91b1-42ed-a67d-00566a1a53ff",
   "metadata": {
    "tags": []
   },
   "outputs": [],
   "source": [
    "#videe iz baze podataka stavljamo u promenjivu data \n",
    "data = tf.data.Dataset.list_files('./data/s1/*.mpg')\n",
    "\n",
    "#meša redosled datoteka (do 500 datoteka) bez ponovnog mešanja pri svakoj iteraciji\n",
    "data = data.shuffle(500, reshuffle_each_iteration=False)\n",
    "data = data.map(mappable_function)\n",
    "\n",
    "# grupise podatke u batcheve veličine 2 i vrši padding na dimenzije ([75,64,64],[40])\n",
    "data = data.padded_batch(2, padded_shapes=([75,64,64],[40])) \n",
    "\n",
    "# prefetching za optimizaciju performansi (učitava podatke unapred asinhrono)\n",
    "data = data.prefetch(tf.data.AUTOTUNE)\n",
    "\n",
    "#train je prvih 450 videa\n",
    "train = data.take(450)\n",
    "\n",
    "#test je poslednjih 50 videa\n",
    "test = data.skip(450)"
   ]
  },
  {
   "cell_type": "code",
   "execution_count": 27,
   "id": "34e2d420-91e3-4145-844f-4d20c42c7264",
   "metadata": {},
   "outputs": [
    {
     "data": {
      "text/plain": [
       "500"
      ]
     },
     "execution_count": 27,
     "metadata": {},
     "output_type": "execute_result"
    }
   ],
   "source": [
    "len(data)"
   ]
  },
  {
   "cell_type": "code",
   "execution_count": 28,
   "id": "6b1365bd-7742-41d1-95d4-247021751c3a",
   "metadata": {},
   "outputs": [
    {
     "data": {
      "text/plain": [
       "50"
      ]
     },
     "execution_count": 28,
     "metadata": {},
     "output_type": "execute_result"
    }
   ],
   "source": [
    "len(test)"
   ]
  },
  {
   "cell_type": "code",
   "execution_count": 29,
   "id": "5281bde8-fdc8-4da1-bd55-5a7929a9e80c",
   "metadata": {},
   "outputs": [],
   "source": [
    "frames, alignments = data.as_numpy_iterator().next()"
   ]
  },
  {
   "cell_type": "code",
   "execution_count": 30,
   "id": "cbebe683-6afd-47fd-bba4-c83b4b13bb32",
   "metadata": {},
   "outputs": [
    {
     "data": {
      "text/plain": [
       "2"
      ]
     },
     "execution_count": 30,
     "metadata": {},
     "output_type": "execute_result"
    }
   ],
   "source": [
    "len(frames)"
   ]
  },
  {
   "cell_type": "code",
   "execution_count": 31,
   "id": "5cf2d676-93a9-434c-b3c7-bdcc2577b2e7",
   "metadata": {
    "tags": []
   },
   "outputs": [],
   "source": [
    "sample = data.as_numpy_iterator()"
   ]
  },
  {
   "cell_type": "code",
   "execution_count": 32,
   "id": "efa6cd46-7079-46c0-b45b-832f339f6cb0",
   "metadata": {
    "scrolled": true,
    "tags": []
   },
   "outputs": [
    {
     "data": {
      "text/plain": [
       "array([[[[1.2083519 , 1.2531248 , 1.3426707 , ..., 1.5665355 ,\n",
       "          1.4322166 , 1.3426707 ],\n",
       "         [1.2083519 , 1.2531248 , 1.3426707 , ..., 1.5665355 ,\n",
       "          1.4322166 , 1.3426707 ],\n",
       "         [1.2083519 , 1.2531248 , 1.3426707 , ..., 1.5665355 ,\n",
       "          1.4322166 , 1.3426707 ],\n",
       "         ...,\n",
       "         [1.4322166 , 1.3874437 , 1.3426707 , ..., 1.2531248 ,\n",
       "          1.2083519 , 1.2083519 ],\n",
       "         [1.4322166 , 1.3874437 , 1.3426707 , ..., 1.2531248 ,\n",
       "          1.2083519 , 1.2083519 ],\n",
       "         [1.4322166 , 1.3874437 , 1.3426707 , ..., 1.2531248 ,\n",
       "          1.2083519 , 1.2083519 ]],\n",
       "\n",
       "        [[1.4322166 , 1.4322166 , 1.4322166 , ..., 1.2531248 ,\n",
       "          1.2083519 , 1.1635789 ],\n",
       "         [1.4322166 , 1.4322166 , 1.4322166 , ..., 1.2531248 ,\n",
       "          1.2083519 , 1.1635789 ],\n",
       "         [1.4322166 , 1.4322166 , 1.4322166 , ..., 1.2531248 ,\n",
       "          1.2083519 , 1.1635789 ],\n",
       "         ...,\n",
       "         [1.4769895 , 1.4769895 , 1.4769895 , ..., 1.1635789 ,\n",
       "          1.2978978 , 1.4322166 ],\n",
       "         [1.4769895 , 1.4769895 , 1.4769895 , ..., 1.1635789 ,\n",
       "          1.2978978 , 1.4322166 ],\n",
       "         [1.4769895 , 1.4769895 , 1.4769895 , ..., 1.1635789 ,\n",
       "          1.2978978 , 1.4322166 ]],\n",
       "\n",
       "        [[1.3426707 , 1.3426707 , 1.3874437 , ..., 1.2531248 ,\n",
       "          1.118806  , 1.02926   ],\n",
       "         [1.3426707 , 1.3426707 , 1.3874437 , ..., 1.2531248 ,\n",
       "          1.118806  , 1.02926   ],\n",
       "         [1.3426707 , 1.3426707 , 1.3874437 , ..., 1.2531248 ,\n",
       "          1.118806  , 1.02926   ],\n",
       "         ...,\n",
       "         [1.4769895 , 1.4769895 , 1.4769895 , ..., 1.2978978 ,\n",
       "          1.3426707 , 1.3874437 ],\n",
       "         [1.4769895 , 1.4769895 , 1.4769895 , ..., 1.2978978 ,\n",
       "          1.3426707 , 1.3874437 ],\n",
       "         [1.4769895 , 1.4769895 , 1.4769895 , ..., 1.2978978 ,\n",
       "          1.3426707 , 1.3874437 ]],\n",
       "\n",
       "        ...,\n",
       "\n",
       "        [[1.1635789 , 1.2083519 , 1.2978978 , ..., 1.074033  ,\n",
       "          1.02926   , 0.9844871 ],\n",
       "         [1.1635789 , 1.2083519 , 1.2978978 , ..., 1.074033  ,\n",
       "          1.02926   , 0.9844871 ],\n",
       "         [1.1635789 , 1.2083519 , 1.2978978 , ..., 1.074033  ,\n",
       "          1.02926   , 0.9844871 ],\n",
       "         ...,\n",
       "         [1.5217625 , 1.5665355 , 1.6113085 , ..., 1.1635789 ,\n",
       "          1.2083519 , 1.2531248 ],\n",
       "         [1.5217625 , 1.5665355 , 1.6113085 , ..., 1.1635789 ,\n",
       "          1.2083519 , 1.2531248 ],\n",
       "         [1.5217625 , 1.5665355 , 1.6113085 , ..., 1.1635789 ,\n",
       "          1.2083519 , 1.2531248 ]],\n",
       "\n",
       "        [[1.118806  , 1.2083519 , 1.2531248 , ..., 1.118806  ,\n",
       "          1.074033  , 1.02926   ],\n",
       "         [1.118806  , 1.2083519 , 1.2531248 , ..., 1.118806  ,\n",
       "          1.074033  , 1.02926   ],\n",
       "         [1.118806  , 1.2083519 , 1.2531248 , ..., 1.118806  ,\n",
       "          1.074033  , 1.02926   ],\n",
       "         ...,\n",
       "         [1.4769895 , 1.4769895 , 1.4769895 , ..., 1.2978978 ,\n",
       "          1.3426707 , 1.3874437 ],\n",
       "         [1.4769895 , 1.4769895 , 1.4769895 , ..., 1.2978978 ,\n",
       "          1.3426707 , 1.3874437 ],\n",
       "         [1.4769895 , 1.4769895 , 1.4769895 , ..., 1.2978978 ,\n",
       "          1.3426707 , 1.3874437 ]],\n",
       "\n",
       "        [[1.074033  , 1.118806  , 1.1635789 , ..., 1.074033  ,\n",
       "          1.02926   , 0.9844871 ],\n",
       "         [1.074033  , 1.118806  , 1.1635789 , ..., 1.074033  ,\n",
       "          1.02926   , 0.9844871 ],\n",
       "         [1.074033  , 1.118806  , 1.1635789 , ..., 1.074033  ,\n",
       "          1.02926   , 0.9844871 ],\n",
       "         ...,\n",
       "         [1.6113085 , 1.6560813 , 1.6560813 , ..., 1.3426707 ,\n",
       "          1.3426707 , 1.3874437 ],\n",
       "         [1.6113085 , 1.6560813 , 1.6560813 , ..., 1.3426707 ,\n",
       "          1.3426707 , 1.3874437 ],\n",
       "         [1.6113085 , 1.6560813 , 1.6560813 , ..., 1.3426707 ,\n",
       "          1.3874437 , 1.3874437 ]]],\n",
       "\n",
       "\n",
       "       [[[0.80855095, 0.80855095, 0.80855095, ..., 0.89562416,\n",
       "          0.76501435, 0.6779411 ],\n",
       "         [0.80855095, 0.80855095, 0.80855095, ..., 0.89562416,\n",
       "          0.76501435, 0.6779411 ],\n",
       "         [0.80855095, 0.80855095, 0.80855095, ..., 0.89562416,\n",
       "          0.76501435, 0.6779411 ],\n",
       "         ...,\n",
       "         [1.2874537 , 1.2874537 , 1.3309903 , ..., 1.5051367 ,\n",
       "          1.4180635 , 1.3309903 ],\n",
       "         [1.2874537 , 1.2874537 , 1.3309903 , ..., 1.5051367 ,\n",
       "          1.4180635 , 1.3309903 ],\n",
       "         [1.2874537 , 1.2874537 , 1.3309903 , ..., 1.5051367 ,\n",
       "          1.4180635 , 1.3309903 ]],\n",
       "\n",
       "        [[0.72147775, 0.76501435, 0.80855095, ..., 0.72147775,\n",
       "          0.5473313 , 0.46025804],\n",
       "         [0.72147775, 0.76501435, 0.80855095, ..., 0.72147775,\n",
       "          0.5473313 , 0.46025804],\n",
       "         [0.72147775, 0.76501435, 0.80855095, ..., 0.72147775,\n",
       "          0.5908679 , 0.46025804],\n",
       "         ...,\n",
       "         [1.4616002 , 1.5051367 , 1.5486734 , ..., 1.4616002 ,\n",
       "          1.4180635 , 1.4180635 ],\n",
       "         [1.4616002 , 1.5051367 , 1.5486734 , ..., 1.4616002 ,\n",
       "          1.4180635 , 1.4180635 ],\n",
       "         [1.4616002 , 1.5051367 , 1.5486734 , ..., 1.4616002 ,\n",
       "          1.4180635 , 1.4180635 ]],\n",
       "\n",
       "        [[0.6779411 , 0.76501435, 0.89562416, ..., 0.6779411 ,\n",
       "          0.5473313 , 0.46025804],\n",
       "         [0.6779411 , 0.76501435, 0.89562416, ..., 0.6779411 ,\n",
       "          0.5473313 , 0.46025804],\n",
       "         [0.6779411 , 0.76501435, 0.89562416, ..., 0.6779411 ,\n",
       "          0.5473313 , 0.46025804],\n",
       "         ...,\n",
       "         [1.5486734 , 1.5486734 , 1.5922099 , ..., 1.4616002 ,\n",
       "          1.4180635 , 1.4180635 ],\n",
       "         [1.5486734 , 1.5486734 , 1.5922099 , ..., 1.4616002 ,\n",
       "          1.4180635 , 1.4180635 ],\n",
       "         [1.5486734 , 1.5486734 , 1.5922099 , ..., 1.4616002 ,\n",
       "          1.4180635 , 1.4180635 ]],\n",
       "\n",
       "        ...,\n",
       "\n",
       "        [[0.98269737, 0.98269737, 0.98269737, ..., 0.98269737,\n",
       "          0.85208756, 0.80855095],\n",
       "         [0.98269737, 0.98269737, 0.98269737, ..., 0.98269737,\n",
       "          0.85208756, 0.80855095],\n",
       "         [0.98269737, 0.93916076, 0.98269737, ..., 0.98269737,\n",
       "          0.85208756, 0.80855095],\n",
       "         ...,\n",
       "         [1.2003804 , 1.2439171 , 1.3309903 , ..., 1.4180635 ,\n",
       "          1.4616002 , 1.5051367 ],\n",
       "         [1.2003804 , 1.2439171 , 1.3309903 , ..., 1.4180635 ,\n",
       "          1.4616002 , 1.5051367 ],\n",
       "         [1.2003804 , 1.2439171 , 1.3309903 , ..., 1.4180635 ,\n",
       "          1.4616002 , 1.5051367 ]],\n",
       "\n",
       "        [[0.98269737, 1.026234  , 1.1133072 , ..., 1.1133072 ,\n",
       "          0.89562416, 0.76501435],\n",
       "         [0.98269737, 1.026234  , 1.1133072 , ..., 1.1133072 ,\n",
       "          0.89562416, 0.76501435],\n",
       "         [0.98269737, 1.026234  , 1.1133072 , ..., 1.1133072 ,\n",
       "          0.89562416, 0.76501435],\n",
       "         ...,\n",
       "         [1.3309903 , 1.4180635 , 1.5051367 , ..., 1.4180635 ,\n",
       "          1.5051367 , 1.5486734 ],\n",
       "         [1.3309903 , 1.4180635 , 1.5051367 , ..., 1.4180635 ,\n",
       "          1.5051367 , 1.5486734 ],\n",
       "         [1.3309903 , 1.4180635 , 1.5051367 , ..., 1.4180635 ,\n",
       "          1.5051367 , 1.5486734 ]],\n",
       "\n",
       "        [[0.93916076, 0.93916076, 0.98269737, ..., 1.026234  ,\n",
       "          0.85208756, 0.76501435],\n",
       "         [0.93916076, 0.93916076, 0.98269737, ..., 1.026234  ,\n",
       "          0.85208756, 0.76501435],\n",
       "         [0.93916076, 0.93916076, 0.98269737, ..., 1.026234  ,\n",
       "          0.85208756, 0.76501435],\n",
       "         ...,\n",
       "         [1.4616002 , 1.4180635 , 1.3745269 , ..., 1.4180635 ,\n",
       "          1.3745269 , 1.4180635 ],\n",
       "         [1.4616002 , 1.4180635 , 1.3745269 , ..., 1.4180635 ,\n",
       "          1.3745269 , 1.4180635 ],\n",
       "         [1.4616002 , 1.4180635 , 1.3745269 , ..., 1.4180635 ,\n",
       "          1.3745269 , 1.4180635 ]]]], dtype=float32)"
      ]
     },
     "execution_count": 32,
     "metadata": {},
     "output_type": "execute_result"
    }
   ],
   "source": [
    "val = sample.next(); val[0]"
   ]
  },
  {
   "cell_type": "code",
   "execution_count": 33,
   "id": "df35a956-9474-4c4f-8925-378b3c04e06b",
   "metadata": {},
   "outputs": [
    {
     "name": "stdout",
     "output_type": "stream",
     "text": [
      "Frames array shape: (75, 64, 64)\n",
      "Frames array data type: float32\n"
     ]
    }
   ],
   "source": [
    "frames_array = val[0][1]\n",
    "print(\"Frames array shape:\", frames_array.shape)\n",
    "print(\"Frames array data type:\", frames_array.dtype)\n",
    "\n",
    "# Convert frames to uint8 and scale to [0, 255]\n",
    "frames_array_uint8 = np.uint8(frames_array * 255)\n",
    "\n",
    "# Squeeze the frames array to remove the singleton dimension\n",
    "frames_array_uint8_squeezed = np.squeeze(frames_array_uint8)"
   ]
  },
  {
   "cell_type": "code",
   "execution_count": 34,
   "id": "acf5eb4f-a0da-4a9a-bf24-af13e9cc2fbe",
   "metadata": {
    "tags": []
   },
   "outputs": [],
   "source": [
    "imageio.mimsave('./animation.gif', frames_array_uint8_squeezed, fps=10)"
   ]
  },
  {
   "cell_type": "code",
   "execution_count": 35,
   "id": "c33a87a2-d5e0-4ec9-b174-73ebf41bf03a",
   "metadata": {
    "tags": []
   },
   "outputs": [
    {
     "name": "stdout",
     "output_type": "stream",
     "text": [
      "Alignments 2. video\n",
      "[16 12  1  3  5 39 23  8  9 20  5 39  9 14 39 24 39 20 23 15 39 16 12  5\n",
      "  1 19  5  0  0  0  0  0  0  0  0  0  0  0  0  0]\n"
     ]
    },
    {
     "data": {
      "image/png": "[encoded data removed]",
      "text/plain": [
       "<Figure size 640x480 with 3 Axes>"
      ]
     },
     "metadata": {},
     "output_type": "display_data"
    }
   ],
   "source": [
    "fig, axs = plt.subplots(1, 3)\n",
    "axs[0].imshow(val[0][1][25]) \n",
    "axs[1].imshow(val[0][1][35]) \n",
    "axs[2].imshow(val[0][1][24]) \n",
    "print('Alignments 2. video')\n",
    "print(val[1][1])\n",
    "\n",
    "#indeks 0: video, indeks 1: n-ti video iz Batcha, indeks3: vrati n-ti frame(0 do 74)"
   ]
  },
  {
   "cell_type": "code",
   "execution_count": 36,
   "id": "84593332-133c-4205-b7a6-8e235d5e2b3b",
   "metadata": {
    "tags": []
   },
   "outputs": [
    {
     "name": "stdout",
     "output_type": "stream",
     "text": [
      "Decoded words for 2. video\n"
     ]
    },
    {
     "data": {
      "text/plain": [
       "<tf.Tensor: shape=(), dtype=string, numpy=b'place white in x two please'>"
      ]
     },
     "execution_count": 36,
     "metadata": {},
     "output_type": "execute_result"
    }
   ],
   "source": [
    "print('Decoded words for 2. video')\n",
    "tf.strings.reduce_join([num_to_char(word) for word in val[1][1]])"
   ]
  },
  {
   "cell_type": "markdown",
   "id": "bc71ec2f-a88c-42c7-a3f0-ae2193b1bb4a",
   "metadata": {
    "tags": []
   },
   "source": [
    "# 2. Dizajn Neuralne mreže"
   ]
  },
  {
   "cell_type": "code",
   "execution_count": 37,
   "id": "73bf461b-4ca5-4d69-9fa3-a36ef41b441b",
   "metadata": {},
   "outputs": [],
   "source": [
    "from tensorflow.keras.models import Sequential\n",
    "from tensorflow.keras.layers import Conv3D, Dense, GRU, Dropout, Bidirectional, MaxPool3D\n",
    "from tensorflow.keras.layers import Flatten, Activation, TimeDistributed \n",
    "from tensorflow.keras.optimizers import Adam\n",
    "from tensorflow.keras.callbacks import ModelCheckpoint, LearningRateScheduler\n",
    "from tensorflow.keras.initializers import Orthogonal"
   ]
  },
  {
   "cell_type": "code",
   "execution_count": 38,
   "id": "0f3dc694-052f-4166-9314-b330337fb313",
   "metadata": {},
   "outputs": [
    {
     "data": {
      "text/plain": [
       "(75, 64, 64)"
      ]
     },
     "execution_count": 38,
     "metadata": {},
     "output_type": "execute_result"
    }
   ],
   "source": [
    "data.as_numpy_iterator().next()[0][0].shape"
   ]
  },
  {
   "cell_type": "code",
   "execution_count": 39,
   "id": "3ae08b84-ffdf-4010-a055-35aa777e8509",
   "metadata": {},
   "outputs": [],
   "source": [
    "# pravimo model koji je najvecim delom CNN - konvoluciona neuralna mreza\n",
    "# prvi sloj ima shape ulaza(slike) \n",
    "# MaxPool3D - male promene u susedsvu ne menjaju rezultat MaxPoolinga, mreza postaje\n",
    "# robusnija na sum.\n",
    "# GRU je za nijansu kvalitetniji od LSTM i koristice se kao u original paperu\n",
    "\n",
    "# bidirectional sluzi da model ima dva GRU sloja, jedan procesiuira recenicu od pocetka do kraja\n",
    "# drugi sloj procesuira recenicu od kraja do pocetka\n",
    "# razlog je taj sto u recenicama redosled reci predstavlja vrlo bitan parametar u razumevanju konteksta"
   ]
  },
  {
   "cell_type": "code",
   "execution_count": 17,
   "id": "4a8ee890-2e9f-4465-aa2b-5791d597cb66",
   "metadata": {},
   "outputs": [
    {
     "ename": "NameError",
     "evalue": "name 'Sequential' is not defined",
     "output_type": "error",
     "traceback": [
      "\u001b[1;31m---------------------------------------------------------------------------\u001b[0m",
      "\u001b[1;31mNameError\u001b[0m                                 Traceback (most recent call last)",
      "Cell \u001b[1;32mIn[17], line 1\u001b[0m\n\u001b[1;32m----> 1\u001b[0m model \u001b[38;5;241m=\u001b[39m \u001b[43mSequential\u001b[49m()\n\u001b[0;32m      3\u001b[0m model\u001b[38;5;241m.\u001b[39madd(Conv3D(\u001b[38;5;241m128\u001b[39m, \u001b[38;5;241m3\u001b[39m, input_shape\u001b[38;5;241m=\u001b[39m(\u001b[38;5;241m75\u001b[39m, \u001b[38;5;241m64\u001b[39m, \u001b[38;5;241m64\u001b[39m, \u001b[38;5;241m1\u001b[39m), padding\u001b[38;5;241m=\u001b[39m\u001b[38;5;124m'\u001b[39m\u001b[38;5;124msame\u001b[39m\u001b[38;5;124m'\u001b[39m)) \n\u001b[0;32m      4\u001b[0m model\u001b[38;5;241m.\u001b[39madd(Activation(\u001b[38;5;124m'\u001b[39m\u001b[38;5;124mrelu\u001b[39m\u001b[38;5;124m'\u001b[39m))\n",
      "\u001b[1;31mNameError\u001b[0m: name 'Sequential' is not defined"
     ]
    }
   ],
   "source": [
    "model = Sequential()\n",
    "\n",
    "model.add(Conv3D(128, 3, input_shape=(75, 64, 64, 1), padding='same')) \n",
    "model.add(Activation('relu'))\n",
    "model.add(MaxPool3D((1, 2, 2)))\n",
    "print(model.output_shape)\n",
    "\n",
    "model.add(Conv3D(256, 3, padding='same'))\n",
    "model.add(Activation('relu'))\n",
    "model.add(MaxPool3D((1, 2, 2)))\n",
    "print(model.output_shape)\n",
    "\n",
    "model.add(Conv3D(64, 3, padding='same'))\n",
    "model.add(Activation('relu'))\n",
    "model.add(MaxPool3D((1, 2, 2)))\n",
    "print(model.output_shape)\n",
    "\n",
    "model.add(TimeDistributed(Flatten()))\n",
    "\n",
    "model.add(Bidirectional(GRU(128, kernel_initializer=Orthogonal(), return_sequences=True)))\n",
    "model.add(Dropout(.5))\n",
    "\n",
    "model.add(Bidirectional(GRU(128, kernel_initializer=Orthogonal(), return_sequences=True)))\n",
    "model.add(Dropout(.5))\n",
    "\n",
    "#kernel_initializer='he_normal' inicijalizujemo tezine(weights) da odrze kvalitetan gradijent pri obuci\n",
    "model.add(Dense(char_to_num.vocabulary_size() + 1, kernel_initializer='he_normal', activation='softmax'))\n",
    "print(model.output_shape)"
   ]
  },
  {
   "cell_type": "code",
   "execution_count": 41,
   "id": "a2253501-2875-40eb-b1f6-0781b0777297",
   "metadata": {},
   "outputs": [
    {
     "data": {
      "text/html": [
       "<pre style=\"white-space:pre;overflow-x:auto;line-height:normal;font-family:Menlo,'DejaVu Sans Mono',consolas,'Courier New',monospace\"><span style=\"font-weight: bold\">Model: \"sequential\"</span>\n",
       "</pre>\n"
      ],
      "text/plain": [
       "\u001b[1mModel: \"sequential\"\u001b[0m\n"
      ]
     },
     "metadata": {},
     "output_type": "display_data"
    },
    {
     "data": {
      "text/html": [
       "<pre style=\"white-space:pre;overflow-x:auto;line-height:normal;font-family:Menlo,'DejaVu Sans Mono',consolas,'Courier New',monospace\">┏━━━━━━━━━━━━━━━━━━━━━━━━━━━━━━━━━━━━━━┳━━━━━━━━━━━━━━━━━━━━━━━━━━━━━┳━━━━━━━━━━━━━━━━━┓\n",
       "┃<span style=\"font-weight: bold\"> Layer (type)                         </span>┃<span style=\"font-weight: bold\"> Output Shape                </span>┃<span style=\"font-weight: bold\">         Param # </span>┃\n",
       "┡━━━━━━━━━━━━━━━━━━━━━━━━━━━━━━━━━━━━━━╇━━━━━━━━━━━━━━━━━━━━━━━━━━━━━╇━━━━━━━━━━━━━━━━━┩\n",
       "│ conv3d (<span style=\"color: #0087ff; text-decoration-color: #0087ff\">Conv3D</span>)                      │ (<span style=\"color: #00d7ff; text-decoration-color: #00d7ff\">None</span>, <span style=\"color: #00af00; text-decoration-color: #00af00\">75</span>, <span style=\"color: #00af00; text-decoration-color: #00af00\">64</span>, <span style=\"color: #00af00; text-decoration-color: #00af00\">64</span>, <span style=\"color: #00af00; text-decoration-color: #00af00\">128</span>)     │           <span style=\"color: #00af00; text-decoration-color: #00af00\">3,584</span> │\n",
       "├──────────────────────────────────────┼─────────────────────────────┼─────────────────┤\n",
       "│ activation (<span style=\"color: #0087ff; text-decoration-color: #0087ff\">Activation</span>)              │ (<span style=\"color: #00d7ff; text-decoration-color: #00d7ff\">None</span>, <span style=\"color: #00af00; text-decoration-color: #00af00\">75</span>, <span style=\"color: #00af00; text-decoration-color: #00af00\">64</span>, <span style=\"color: #00af00; text-decoration-color: #00af00\">64</span>, <span style=\"color: #00af00; text-decoration-color: #00af00\">128</span>)     │               <span style=\"color: #00af00; text-decoration-color: #00af00\">0</span> │\n",
       "├──────────────────────────────────────┼─────────────────────────────┼─────────────────┤\n",
       "│ max_pooling3d (<span style=\"color: #0087ff; text-decoration-color: #0087ff\">MaxPooling3D</span>)         │ (<span style=\"color: #00d7ff; text-decoration-color: #00d7ff\">None</span>, <span style=\"color: #00af00; text-decoration-color: #00af00\">75</span>, <span style=\"color: #00af00; text-decoration-color: #00af00\">32</span>, <span style=\"color: #00af00; text-decoration-color: #00af00\">32</span>, <span style=\"color: #00af00; text-decoration-color: #00af00\">128</span>)     │               <span style=\"color: #00af00; text-decoration-color: #00af00\">0</span> │\n",
       "├──────────────────────────────────────┼─────────────────────────────┼─────────────────┤\n",
       "│ conv3d_1 (<span style=\"color: #0087ff; text-decoration-color: #0087ff\">Conv3D</span>)                    │ (<span style=\"color: #00d7ff; text-decoration-color: #00d7ff\">None</span>, <span style=\"color: #00af00; text-decoration-color: #00af00\">75</span>, <span style=\"color: #00af00; text-decoration-color: #00af00\">32</span>, <span style=\"color: #00af00; text-decoration-color: #00af00\">32</span>, <span style=\"color: #00af00; text-decoration-color: #00af00\">256</span>)     │         <span style=\"color: #00af00; text-decoration-color: #00af00\">884,992</span> │\n",
       "├──────────────────────────────────────┼─────────────────────────────┼─────────────────┤\n",
       "│ activation_1 (<span style=\"color: #0087ff; text-decoration-color: #0087ff\">Activation</span>)            │ (<span style=\"color: #00d7ff; text-decoration-color: #00d7ff\">None</span>, <span style=\"color: #00af00; text-decoration-color: #00af00\">75</span>, <span style=\"color: #00af00; text-decoration-color: #00af00\">32</span>, <span style=\"color: #00af00; text-decoration-color: #00af00\">32</span>, <span style=\"color: #00af00; text-decoration-color: #00af00\">256</span>)     │               <span style=\"color: #00af00; text-decoration-color: #00af00\">0</span> │\n",
       "├──────────────────────────────────────┼─────────────────────────────┼─────────────────┤\n",
       "│ max_pooling3d_1 (<span style=\"color: #0087ff; text-decoration-color: #0087ff\">MaxPooling3D</span>)       │ (<span style=\"color: #00d7ff; text-decoration-color: #00d7ff\">None</span>, <span style=\"color: #00af00; text-decoration-color: #00af00\">75</span>, <span style=\"color: #00af00; text-decoration-color: #00af00\">16</span>, <span style=\"color: #00af00; text-decoration-color: #00af00\">16</span>, <span style=\"color: #00af00; text-decoration-color: #00af00\">256</span>)     │               <span style=\"color: #00af00; text-decoration-color: #00af00\">0</span> │\n",
       "├──────────────────────────────────────┼─────────────────────────────┼─────────────────┤\n",
       "│ conv3d_2 (<span style=\"color: #0087ff; text-decoration-color: #0087ff\">Conv3D</span>)                    │ (<span style=\"color: #00d7ff; text-decoration-color: #00d7ff\">None</span>, <span style=\"color: #00af00; text-decoration-color: #00af00\">75</span>, <span style=\"color: #00af00; text-decoration-color: #00af00\">16</span>, <span style=\"color: #00af00; text-decoration-color: #00af00\">16</span>, <span style=\"color: #00af00; text-decoration-color: #00af00\">64</span>)      │         <span style=\"color: #00af00; text-decoration-color: #00af00\">442,432</span> │\n",
       "├──────────────────────────────────────┼─────────────────────────────┼─────────────────┤\n",
       "│ activation_2 (<span style=\"color: #0087ff; text-decoration-color: #0087ff\">Activation</span>)            │ (<span style=\"color: #00d7ff; text-decoration-color: #00d7ff\">None</span>, <span style=\"color: #00af00; text-decoration-color: #00af00\">75</span>, <span style=\"color: #00af00; text-decoration-color: #00af00\">16</span>, <span style=\"color: #00af00; text-decoration-color: #00af00\">16</span>, <span style=\"color: #00af00; text-decoration-color: #00af00\">64</span>)      │               <span style=\"color: #00af00; text-decoration-color: #00af00\">0</span> │\n",
       "├──────────────────────────────────────┼─────────────────────────────┼─────────────────┤\n",
       "│ max_pooling3d_2 (<span style=\"color: #0087ff; text-decoration-color: #0087ff\">MaxPooling3D</span>)       │ (<span style=\"color: #00d7ff; text-decoration-color: #00d7ff\">None</span>, <span style=\"color: #00af00; text-decoration-color: #00af00\">75</span>, <span style=\"color: #00af00; text-decoration-color: #00af00\">8</span>, <span style=\"color: #00af00; text-decoration-color: #00af00\">8</span>, <span style=\"color: #00af00; text-decoration-color: #00af00\">64</span>)        │               <span style=\"color: #00af00; text-decoration-color: #00af00\">0</span> │\n",
       "├──────────────────────────────────────┼─────────────────────────────┼─────────────────┤\n",
       "│ time_distributed (<span style=\"color: #0087ff; text-decoration-color: #0087ff\">TimeDistributed</span>)   │ (<span style=\"color: #00d7ff; text-decoration-color: #00d7ff\">None</span>, <span style=\"color: #00af00; text-decoration-color: #00af00\">75</span>, <span style=\"color: #00af00; text-decoration-color: #00af00\">4096</span>)            │               <span style=\"color: #00af00; text-decoration-color: #00af00\">0</span> │\n",
       "├──────────────────────────────────────┼─────────────────────────────┼─────────────────┤\n",
       "│ bidirectional (<span style=\"color: #0087ff; text-decoration-color: #0087ff\">Bidirectional</span>)        │ (<span style=\"color: #00d7ff; text-decoration-color: #00d7ff\">None</span>, <span style=\"color: #00af00; text-decoration-color: #00af00\">75</span>, <span style=\"color: #00af00; text-decoration-color: #00af00\">256</span>)             │       <span style=\"color: #00af00; text-decoration-color: #00af00\">4,326,400</span> │\n",
       "├──────────────────────────────────────┼─────────────────────────────┼─────────────────┤\n",
       "│ dropout (<span style=\"color: #0087ff; text-decoration-color: #0087ff\">Dropout</span>)                    │ (<span style=\"color: #00d7ff; text-decoration-color: #00d7ff\">None</span>, <span style=\"color: #00af00; text-decoration-color: #00af00\">75</span>, <span style=\"color: #00af00; text-decoration-color: #00af00\">256</span>)             │               <span style=\"color: #00af00; text-decoration-color: #00af00\">0</span> │\n",
       "├──────────────────────────────────────┼─────────────────────────────┼─────────────────┤\n",
       "│ bidirectional_1 (<span style=\"color: #0087ff; text-decoration-color: #0087ff\">Bidirectional</span>)      │ (<span style=\"color: #00d7ff; text-decoration-color: #00d7ff\">None</span>, <span style=\"color: #00af00; text-decoration-color: #00af00\">75</span>, <span style=\"color: #00af00; text-decoration-color: #00af00\">256</span>)             │         <span style=\"color: #00af00; text-decoration-color: #00af00\">394,240</span> │\n",
       "├──────────────────────────────────────┼─────────────────────────────┼─────────────────┤\n",
       "│ dropout_1 (<span style=\"color: #0087ff; text-decoration-color: #0087ff\">Dropout</span>)                  │ (<span style=\"color: #00d7ff; text-decoration-color: #00d7ff\">None</span>, <span style=\"color: #00af00; text-decoration-color: #00af00\">75</span>, <span style=\"color: #00af00; text-decoration-color: #00af00\">256</span>)             │               <span style=\"color: #00af00; text-decoration-color: #00af00\">0</span> │\n",
       "├──────────────────────────────────────┼─────────────────────────────┼─────────────────┤\n",
       "│ dense (<span style=\"color: #0087ff; text-decoration-color: #0087ff\">Dense</span>)                        │ (<span style=\"color: #00d7ff; text-decoration-color: #00d7ff\">None</span>, <span style=\"color: #00af00; text-decoration-color: #00af00\">75</span>, <span style=\"color: #00af00; text-decoration-color: #00af00\">41</span>)              │          <span style=\"color: #00af00; text-decoration-color: #00af00\">10,537</span> │\n",
       "└──────────────────────────────────────┴─────────────────────────────┴─────────────────┘\n",
       "</pre>\n"
      ],
      "text/plain": [
       "┏━━━━━━━━━━━━━━━━━━━━━━━━━━━━━━━━━━━━━━┳━━━━━━━━━━━━━━━━━━━━━━━━━━━━━┳━━━━━━━━━━━━━━━━━┓\n",
       "┃\u001b[1m \u001b[0m\u001b[1mLayer (type)                        \u001b[0m\u001b[1m \u001b[0m┃\u001b[1m \u001b[0m\u001b[1mOutput Shape               \u001b[0m\u001b[1m \u001b[0m┃\u001b[1m \u001b[0m\u001b[1m        Param #\u001b[0m\u001b[1m \u001b[0m┃\n",
       "┡━━━━━━━━━━━━━━━━━━━━━━━━━━━━━━━━━━━━━━╇━━━━━━━━━━━━━━━━━━━━━━━━━━━━━╇━━━━━━━━━━━━━━━━━┩\n",
       "│ conv3d (\u001b[38;5;33mConv3D\u001b[0m)                      │ (\u001b[38;5;45mNone\u001b[0m, \u001b[38;5;34m75\u001b[0m, \u001b[38;5;34m64\u001b[0m, \u001b[38;5;34m64\u001b[0m, \u001b[38;5;34m128\u001b[0m)     │           \u001b[38;5;34m3,584\u001b[0m │\n",
       "├──────────────────────────────────────┼─────────────────────────────┼─────────────────┤\n",
       "│ activation (\u001b[38;5;33mActivation\u001b[0m)              │ (\u001b[38;5;45mNone\u001b[0m, \u001b[38;5;34m75\u001b[0m, \u001b[38;5;34m64\u001b[0m, \u001b[38;5;34m64\u001b[0m, \u001b[38;5;34m128\u001b[0m)     │               \u001b[38;5;34m0\u001b[0m │\n",
       "├──────────────────────────────────────┼─────────────────────────────┼─────────────────┤\n",
       "│ max_pooling3d (\u001b[38;5;33mMaxPooling3D\u001b[0m)         │ (\u001b[38;5;45mNone\u001b[0m, \u001b[38;5;34m75\u001b[0m, \u001b[38;5;34m32\u001b[0m, \u001b[38;5;34m32\u001b[0m, \u001b[38;5;34m128\u001b[0m)     │               \u001b[38;5;34m0\u001b[0m │\n",
       "├──────────────────────────────────────┼─────────────────────────────┼─────────────────┤\n",
       "│ conv3d_1 (\u001b[38;5;33mConv3D\u001b[0m)                    │ (\u001b[38;5;45mNone\u001b[0m, \u001b[38;5;34m75\u001b[0m, \u001b[38;5;34m32\u001b[0m, \u001b[38;5;34m32\u001b[0m, \u001b[38;5;34m256\u001b[0m)     │         \u001b[38;5;34m884,992\u001b[0m │\n",
       "├──────────────────────────────────────┼─────────────────────────────┼─────────────────┤\n",
       "│ activation_1 (\u001b[38;5;33mActivation\u001b[0m)            │ (\u001b[38;5;45mNone\u001b[0m, \u001b[38;5;34m75\u001b[0m, \u001b[38;5;34m32\u001b[0m, \u001b[38;5;34m32\u001b[0m, \u001b[38;5;34m256\u001b[0m)     │               \u001b[38;5;34m0\u001b[0m │\n",
       "├──────────────────────────────────────┼─────────────────────────────┼─────────────────┤\n",
       "│ max_pooling3d_1 (\u001b[38;5;33mMaxPooling3D\u001b[0m)       │ (\u001b[38;5;45mNone\u001b[0m, \u001b[38;5;34m75\u001b[0m, \u001b[38;5;34m16\u001b[0m, \u001b[38;5;34m16\u001b[0m, \u001b[38;5;34m256\u001b[0m)     │               \u001b[38;5;34m0\u001b[0m │\n",
       "├──────────────────────────────────────┼─────────────────────────────┼─────────────────┤\n",
       "│ conv3d_2 (\u001b[38;5;33mConv3D\u001b[0m)                    │ (\u001b[38;5;45mNone\u001b[0m, \u001b[38;5;34m75\u001b[0m, \u001b[38;5;34m16\u001b[0m, \u001b[38;5;34m16\u001b[0m, \u001b[38;5;34m64\u001b[0m)      │         \u001b[38;5;34m442,432\u001b[0m │\n",
       "├──────────────────────────────────────┼─────────────────────────────┼─────────────────┤\n",
       "│ activation_2 (\u001b[38;5;33mActivation\u001b[0m)            │ (\u001b[38;5;45mNone\u001b[0m, \u001b[38;5;34m75\u001b[0m, \u001b[38;5;34m16\u001b[0m, \u001b[38;5;34m16\u001b[0m, \u001b[38;5;34m64\u001b[0m)      │               \u001b[38;5;34m0\u001b[0m │\n",
       "├──────────────────────────────────────┼─────────────────────────────┼─────────────────┤\n",
       "│ max_pooling3d_2 (\u001b[38;5;33mMaxPooling3D\u001b[0m)       │ (\u001b[38;5;45mNone\u001b[0m, \u001b[38;5;34m75\u001b[0m, \u001b[38;5;34m8\u001b[0m, \u001b[38;5;34m8\u001b[0m, \u001b[38;5;34m64\u001b[0m)        │               \u001b[38;5;34m0\u001b[0m │\n",
       "├──────────────────────────────────────┼─────────────────────────────┼─────────────────┤\n",
       "│ time_distributed (\u001b[38;5;33mTimeDistributed\u001b[0m)   │ (\u001b[38;5;45mNone\u001b[0m, \u001b[38;5;34m75\u001b[0m, \u001b[38;5;34m4096\u001b[0m)            │               \u001b[38;5;34m0\u001b[0m │\n",
       "├──────────────────────────────────────┼─────────────────────────────┼─────────────────┤\n",
       "│ bidirectional (\u001b[38;5;33mBidirectional\u001b[0m)        │ (\u001b[38;5;45mNone\u001b[0m, \u001b[38;5;34m75\u001b[0m, \u001b[38;5;34m256\u001b[0m)             │       \u001b[38;5;34m4,326,400\u001b[0m │\n",
       "├──────────────────────────────────────┼─────────────────────────────┼─────────────────┤\n",
       "│ dropout (\u001b[38;5;33mDropout\u001b[0m)                    │ (\u001b[38;5;45mNone\u001b[0m, \u001b[38;5;34m75\u001b[0m, \u001b[38;5;34m256\u001b[0m)             │               \u001b[38;5;34m0\u001b[0m │\n",
       "├──────────────────────────────────────┼─────────────────────────────┼─────────────────┤\n",
       "│ bidirectional_1 (\u001b[38;5;33mBidirectional\u001b[0m)      │ (\u001b[38;5;45mNone\u001b[0m, \u001b[38;5;34m75\u001b[0m, \u001b[38;5;34m256\u001b[0m)             │         \u001b[38;5;34m394,240\u001b[0m │\n",
       "├──────────────────────────────────────┼─────────────────────────────┼─────────────────┤\n",
       "│ dropout_1 (\u001b[38;5;33mDropout\u001b[0m)                  │ (\u001b[38;5;45mNone\u001b[0m, \u001b[38;5;34m75\u001b[0m, \u001b[38;5;34m256\u001b[0m)             │               \u001b[38;5;34m0\u001b[0m │\n",
       "├──────────────────────────────────────┼─────────────────────────────┼─────────────────┤\n",
       "│ dense (\u001b[38;5;33mDense\u001b[0m)                        │ (\u001b[38;5;45mNone\u001b[0m, \u001b[38;5;34m75\u001b[0m, \u001b[38;5;34m41\u001b[0m)              │          \u001b[38;5;34m10,537\u001b[0m │\n",
       "└──────────────────────────────────────┴─────────────────────────────┴─────────────────┘\n"
      ]
     },
     "metadata": {},
     "output_type": "display_data"
    },
    {
     "data": {
      "text/html": [
       "<pre style=\"white-space:pre;overflow-x:auto;line-height:normal;font-family:Menlo,'DejaVu Sans Mono',consolas,'Courier New',monospace\"><span style=\"font-weight: bold\"> Total params: </span><span style=\"color: #00af00; text-decoration-color: #00af00\">6,062,185</span> (23.13 MB)\n",
       "</pre>\n"
      ],
      "text/plain": [
       "\u001b[1m Total params: \u001b[0m\u001b[38;5;34m6,062,185\u001b[0m (23.13 MB)\n"
      ]
     },
     "metadata": {},
     "output_type": "display_data"
    },
    {
     "data": {
      "text/html": [
       "<pre style=\"white-space:pre;overflow-x:auto;line-height:normal;font-family:Menlo,'DejaVu Sans Mono',consolas,'Courier New',monospace\"><span style=\"font-weight: bold\"> Trainable params: </span><span style=\"color: #00af00; text-decoration-color: #00af00\">6,062,185</span> (23.13 MB)\n",
       "</pre>\n"
      ],
      "text/plain": [
       "\u001b[1m Trainable params: \u001b[0m\u001b[38;5;34m6,062,185\u001b[0m (23.13 MB)\n"
      ]
     },
     "metadata": {},
     "output_type": "display_data"
    },
    {
     "data": {
      "text/html": [
       "<pre style=\"white-space:pre;overflow-x:auto;line-height:normal;font-family:Menlo,'DejaVu Sans Mono',consolas,'Courier New',monospace\"><span style=\"font-weight: bold\"> Non-trainable params: </span><span style=\"color: #00af00; text-decoration-color: #00af00\">0</span> (0.00 B)\n",
       "</pre>\n"
      ],
      "text/plain": [
       "\u001b[1m Non-trainable params: \u001b[0m\u001b[38;5;34m0\u001b[0m (0.00 B)\n"
      ]
     },
     "metadata": {},
     "output_type": "display_data"
    }
   ],
   "source": [
    "model.summary()"
   ]
  },
  {
   "cell_type": "code",
   "execution_count": 42,
   "id": "d2ba6dce-d60e-46bb-b9d2-bd9c6ba50905",
   "metadata": {},
   "outputs": [
    {
     "name": "stdout",
     "output_type": "stream",
     "text": [
      "\u001b[1m1/1\u001b[0m \u001b[32m━━━━━━━━━━━━━━━━━━━━\u001b[0m\u001b[37m\u001b[0m \u001b[1m3s\u001b[0m 3s/step\n"
     ]
    }
   ],
   "source": [
    "#predikcija neistrenirane neuralne mreze\n",
    "yhat = model.predict(val[0])"
   ]
  },
  {
   "cell_type": "code",
   "execution_count": 43,
   "id": "14d2e05f-4146-47b1-aae9-2ff21a70463b",
   "metadata": {},
   "outputs": [
    {
     "data": {
      "text/plain": [
       "<tf.Tensor: shape=(75,), dtype=int64, numpy=\n",
       "array([26, 26, 30, 15, 15, 15, 15, 15, 15, 30, 30, 15, 15, 15, 15, 15, 15,\n",
       "       15, 15, 15, 15, 15, 15, 15, 15, 15, 15, 15, 15, 15, 15, 15, 15, 15,\n",
       "       15, 15, 15, 15, 15, 15, 15, 15, 15, 15, 15, 15, 15, 15, 15, 15, 15,\n",
       "       15, 15, 15, 15, 15, 15, 15, 15, 15, 15, 15, 15, 15, 15, 15, 15, 15,\n",
       "       15, 15, 15, 15, 15, 15,  1], dtype=int64)>"
      ]
     },
     "execution_count": 43,
     "metadata": {},
     "output_type": "execute_result"
    }
   ],
   "source": [
    "tf.argmax(yhat[0], axis = 1)"
   ]
  },
  {
   "cell_type": "code",
   "execution_count": 44,
   "id": "bb810809-dbe2-4d2d-9cac-eabc81ba34a4",
   "metadata": {},
   "outputs": [
    {
     "data": {
      "text/plain": [
       "<tf.Tensor: shape=(), dtype=string, numpy=b'zz1oooooo11oooooooooooooooooooooooooooooooooooooooooooooooooooooooooooooooa'>"
      ]
     },
     "execution_count": 44,
     "metadata": {},
     "output_type": "execute_result"
    }
   ],
   "source": [
    "tf.strings.reduce_join([num_to_char(tf.argmax(x)) for x in yhat[0]])\n",
    "#izlaz neistrenirane neuronske mreže"
   ]
  },
  {
   "cell_type": "code",
   "execution_count": 45,
   "id": "f030601d-3254-4645-91e4-72c590e15f5f",
   "metadata": {},
   "outputs": [
    {
     "data": {
      "text/plain": [
       "(None, 75, 64, 64, 1)"
      ]
     },
     "execution_count": 45,
     "metadata": {},
     "output_type": "execute_result"
    }
   ],
   "source": [
    "model.input_shape"
   ]
  },
  {
   "cell_type": "code",
   "execution_count": 46,
   "id": "4b9bccd9-85fc-412b-a5a7-b7219ec93e55",
   "metadata": {},
   "outputs": [
    {
     "data": {
      "text/plain": [
       "(None, 75, 41)"
      ]
     },
     "execution_count": 46,
     "metadata": {},
     "output_type": "execute_result"
    }
   ],
   "source": [
    "model.output_shape"
   ]
  },
  {
   "cell_type": "code",
   "execution_count": 47,
   "id": "f4f9056b-b2d6-412e-b20b-2bdedeededcb",
   "metadata": {},
   "outputs": [],
   "source": [
    "# postavka trening opcija"
   ]
  },
  {
   "cell_type": "code",
   "execution_count": 48,
   "id": "50f2cd93-2f9b-480e-b2a7-66300688a4cc",
   "metadata": {},
   "outputs": [],
   "source": [
    "def scheduler(epoch, lr):\n",
    "    if epoch < 30:\n",
    "        return lr\n",
    "    else:\n",
    "        return lr*tf.math.exp(-0.1)\n",
    "\n",
    "# Ovaj raspored stope učenja (scheduler) koristi se da bi se održala \n",
    "# konstantna stopa učenja tokom prvih 30 epoha treninga.\n",
    "        \n",
    "# Nakon 30 epoha, stopa učenja se eksponencijalno smanjuje, što može pomoći modelu \n",
    "# da se bolje konvergira i smanji oscilacije oko minimuma funkcije gubitka."
   ]
  },
  {
   "cell_type": "code",
   "execution_count": 49,
   "id": "727e6489-ee26-48aa-aa79-d43788cc8ddb",
   "metadata": {},
   "outputs": [],
   "source": [
    "def CTCLoss(y_true, y_pred):\n",
    "    \n",
    "    batch_len = tf.cast(tf.shape(y_true)[0], dtype = \"int64\")\n",
    "    input_length = tf.cast(tf.shape(y_pred)[1], dtype = \"int64\")\n",
    "    label_length = tf.cast(tf.shape(y_true)[1], dtype = \"int64\")\n",
    "\n",
    "    input_length = input_length * tf.ones(shape=(batch_len, 1), dtype = \"int64\")\n",
    "    label_length = label_length * tf.ones(shape=(batch_len, 1), dtype = \"int64\")\n",
    "\n",
    "    loss = tf.keras.backend.ctc_batch_cost(y_true, y_pred, input_length, label_length)\n",
    "    return loss\n",
    "\n",
    "#https://keras.io/examples/audio/ctc_asr/\n",
    "# ctc_batch_cost spaja output svakog frejma u smislenu recenicu, primer: ddooooggg -> dog \n",
    "# 1. AAA_AAA -> AA 2. AAABBBBB => AB"
   ]
  },
  {
   "cell_type": "code",
   "execution_count": 50,
   "id": "30093aa6-9ed9-460c-911d-f294c4db7374",
   "metadata": {},
   "outputs": [],
   "source": [
    "# klasa koja implementira funkciju on_epoch_end koja vraca sta neuralna mreza prediktuje nakon svake epohe,\n",
    "# tako da mozemo da pratimo njen napredak in real time\n",
    "\n",
    "class ProduceExample(tf.keras.callbacks.Callback): \n",
    "    def __init__(self, dataset) -> None: \n",
    "        self.dataset = dataset.as_numpy_iterator()\n",
    "    \n",
    "    def on_epoch_end(self, epoch, logs=None) -> None:\n",
    "        data = self.dataset.next()\n",
    "        yhat = self.model.predict(data[0])\n",
    "        decoded = tf.keras.backend.ctc_decode(yhat, [75,75], greedy=False)[0][0].numpy()\n",
    "        for x in range(len(yhat)):           \n",
    "            print('Original is: ', tf.strings.reduce_join(num_to_char(data[1][x])).numpy().decode('utf-8'))\n",
    "            print('Prediction is: ', tf.strings.reduce_join(num_to_char(decoded[x])).numpy().decode('utf-8'))\n",
    "            print('~'*100)"
   ]
  },
  {
   "cell_type": "code",
   "execution_count": 51,
   "id": "c412a3f8-4d47-483f-9c7a-09f2a1aec1be",
   "metadata": {},
   "outputs": [],
   "source": [
    "#koristimo adam optimizer, robustan model optimizacije zasnovan na gradijentu \n",
    "# i pogodan za nekonveksnu optimiziacju i problema masinskog ucenja\n",
    "model.compile(optimizer = Adam(learning_rate = 0.0001), loss = CTCLoss)"
   ]
  },
  {
   "cell_type": "code",
   "execution_count": 52,
   "id": "cff96264-54c7-484e-8b11-569f6944e6db",
   "metadata": {},
   "outputs": [],
   "source": [
    "checkpoint_callback = ModelCheckpoint(os.path.join('models', 'checkpoint.weights.h5'), monitor = 'loss', save_weights_only = True)"
   ]
  },
  {
   "cell_type": "code",
   "execution_count": 53,
   "id": "46163d82-cafc-40c9-bfe6-137471e4b696",
   "metadata": {},
   "outputs": [],
   "source": [
    "schedule_callback = LearningRateScheduler(scheduler)"
   ]
  },
  {
   "cell_type": "code",
   "execution_count": 54,
   "id": "c13e976b-543c-460a-a523-b386728879a4",
   "metadata": {},
   "outputs": [],
   "source": [
    "example_callback = ProduceExample(data)"
   ]
  },
  {
   "cell_type": "code",
   "execution_count": null,
   "id": "faa6e75d-72c2-4ac8-a21a-b13eec248b02",
   "metadata": {},
   "outputs": [
    {
     "name": "stdout",
     "output_type": "stream",
     "text": [
      "Epoch 1/50\n",
      "WARNING:tensorflow:From C:\\Python311\\Lib\\site-packages\\keras\\src\\legacy\\backend.py:666: The name tf.nn.ctc_loss is deprecated. Please use tf.compat.v1.nn.ctc_loss instead.\n",
      "\n",
      "\u001b[1m 23/500\u001b[0m \u001b[37m━━━━━━━━━━━━━━━━━━━━\u001b[0m \u001b[1m1:20:37\u001b[0m 10s/step - loss: 172.4822"
     ]
    }
   ],
   "source": [
    "model.fit(data, validation_data = test, epochs = 50, callbacks = [checkpoint_callback, schedule_callback, example_callback])"
   ]
  },
  {
   "cell_type": "code",
   "execution_count": null,
   "id": "34e37233-b5ed-4afe-9741-cb06afd073c9",
   "metadata": {},
   "outputs": [],
   "source": [
    "#PREDICTIONS"
   ]
  },
  {
   "cell_type": "code",
   "execution_count": 18,
   "id": "e6780c15-284b-41c2-85b9-a32ed27b890a",
   "metadata": {},
   "outputs": [],
   "source": [
    "#vec istrenirana mreza sa slicnim parametrima ali posto input i par slojeva nisu isti\n",
    "#ne daje kvalitetan output\n",
    "\n",
    "#url = 'https://drive.google.com/uc?id=1vWscXs4Vt0a_1IH1-ct2TCgXAZT-N3_Y'\n",
    "#output = 'checkpoints.zip'\n",
    "#gdown.download(url, output, quiet=False)\n",
    "#gdown.extractall('checkpoints.zip', 'models')"
   ]
  },
  {
   "cell_type": "code",
   "execution_count": 84,
   "id": "7cf24e0a-d2e0-400b-bc2b-7550d61617e8",
   "metadata": {},
   "outputs": [],
   "source": [
    "model.load_weights('models/checkpoint.weights.h5')"
   ]
  },
  {
   "cell_type": "code",
   "execution_count": 85,
   "id": "41eb6772-e877-4cb3-a130-4552eea990c3",
   "metadata": {},
   "outputs": [],
   "source": [
    "test_data = test.as_numpy_iterator()"
   ]
  },
  {
   "cell_type": "code",
   "execution_count": null,
   "id": "f57e6626-2d37-47c4-ae6f-66e2414cef30",
   "metadata": {},
   "outputs": [],
   "source": [
    "sample = test_data.next()"
   ]
  },
  {
   "cell_type": "code",
   "execution_count": null,
   "id": "03e2e5ce-ba28-443d-b91b-c143273f6fde",
   "metadata": {},
   "outputs": [],
   "source": [
    "yhat = model.predict(sample[0])"
   ]
  },
  {
   "cell_type": "code",
   "execution_count": null,
   "id": "c99a0f37-bff7-4ca5-af72-aa5561a269d6",
   "metadata": {},
   "outputs": [],
   "source": [
    "print('-'*50, 'GROUND TRUTH TEKST')\n",
    "[tf.strings.reduce_join([num_to_char(word) for word in sentence]) for sentence in sample[1]] "
   ]
  },
  {
   "cell_type": "code",
   "execution_count": null,
   "id": "8ba4ac73-e9fd-41b7-8ad7-5b268b0cf120",
   "metadata": {},
   "outputs": [],
   "source": [
    "decoded = tf.keras.backend.ctc_decode(yhat, input_length=[75,75], greedy=True)[0][0].numpy()"
   ]
  },
  {
   "cell_type": "code",
   "execution_count": null,
   "id": "299750aa-eed4-403e-ab2f-e774a3f747d8",
   "metadata": {},
   "outputs": [],
   "source": [
    "print('-'*50, 'PREDIKTOVANO')\n",
    "[tf.strings.reduce_join([num_to_char(word) for word in sentence]) for sentence in decoded]"
   ]
  },
  {
   "cell_type": "code",
   "execution_count": null,
   "id": "eeac1a52-eacb-4274-8100-9c9573484b15",
   "metadata": {},
   "outputs": [],
   "source": [
    "#\n",
    "#\n",
    "##TEST SA WEBCAMERE ZA DETEKCIJU GOVORA\n",
    "#\n",
    "#"
   ]
  }
 ],
 "metadata": {
  "kernelspec": {
   "display_name": "Python 3 (ipykernel)",
   "language": "python",
   "name": "python3"
  },
  "language_info": {
   "codemirror_mode": {
    "name": "ipython",
    "version": 3
   },
   "file_extension": ".py",
   "mimetype": "text/x-python",
   "name": "python",
   "nbconvert_exporter": "python",
   "pygments_lexer": "ipython3",
   "version": "3.11.0"
  }
 },
 "nbformat": 4,
 "nbformat_minor": 5
}
